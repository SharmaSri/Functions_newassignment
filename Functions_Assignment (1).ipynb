{
  "nbformat": 4,
  "nbformat_minor": 0,
  "metadata": {
    "colab": {
      "provenance": []
    },
    "kernelspec": {
      "name": "python3",
      "display_name": "Python 3"
    },
    "language_info": {
      "name": "python"
    }
  },
  "cells": [
    {
      "cell_type": "markdown",
      "source": [
        " What is the difference between a function and a method in Python"
      ],
      "metadata": {
        "id": "R7xXdnD47qaU"
      }
    },
    {
      "cell_type": "markdown",
      "source": [
        "In Python, both functions and methods are callable pieces of code, but they have distinct differences based on their context and how they are defined and used.\n",
        "\n",
        "Key Differences\n",
        "Definition Context:\n",
        "\n",
        "A function is a standalone block of code defined using the def keyword. It can be called directly.\n",
        "A method is a function that is associated with an object or class and is typically called on that object.\n",
        "Invocation:\n",
        "\n",
        "Functions are called directly using their name, e.g., function_name().\n",
        "Methods are called on an object or class using dot notation, e.g., object.method_name().\n",
        "Binding:\n",
        "\n",
        "Methods have access to the object they are called on and can operate on the object’s attributes. This is because methods have a first parameter (self for instance methods) that refers to the object.\n",
        "Functions are not tied to any object."
      ],
      "metadata": {
        "id": "Cs9uUTkz8gI5"
      }
    },
    {
      "cell_type": "code",
      "source": [
        "def greet(name):\n",
        "    return f\"Hello, {name}!\"\n",
        "\n",
        "# Calling the function\n",
        "print(greet(\"Alice\"))\n"
      ],
      "metadata": {
        "id": "nPEWghl88iCh"
      },
      "execution_count": null,
      "outputs": []
    },
    {
      "cell_type": "code",
      "source": [
        "class Greeter:\n",
        "    def greet(self, name):  # 'self' refers to the instance of the class\n",
        "        return f\"Hello, {name}!\"\n",
        "\n",
        "# Create an instance of Greeter\n",
        "greeter = Greeter()\n",
        "\n",
        "# Calling the method on the object\n",
        "print(greeter.greet(\"Bob\"))\n"
      ],
      "metadata": {
        "id": "AVkaMg-w8vTV"
      },
      "execution_count": null,
      "outputs": []
    },
    {
      "cell_type": "markdown",
      "source": [
        " Explain the concept of function arguments and parameters in Python"
      ],
      "metadata": {
        "id": "Yq4TnIO99EjW"
      }
    },
    {
      "cell_type": "markdown",
      "source": [
        "In Python, function arguments and parameters are concepts central to how data is passed into functions. Although often used interchangeably, they refer to different things depending on the context:\n",
        "\n",
        "Parameters\n",
        "Definition: Parameters are the variables listed in a function's definition.\n",
        "Purpose: They act as placeholders for the values (arguments) that a function will receive when it is called."
      ],
      "metadata": {
        "id": "0c2RZEIANthd"
      }
    },
    {
      "cell_type": "code",
      "source": [
        "def greet(name):  # 'name' is a parameter\n",
        "    print(f\"Hello, {name}!\")\n"
      ],
      "metadata": {
        "id": "OMWC2LjLNxbX"
      },
      "execution_count": null,
      "outputs": []
    },
    {
      "cell_type": "markdown",
      "source": [
        "Arguments\n",
        "Definition: Arguments are the actual values passed to a function when it is called.\n",
        "Purpose: These are the concrete values that are substituted for the parameters during a function call."
      ],
      "metadata": {
        "id": "ldmaJhkvN-qS"
      }
    },
    {
      "cell_type": "code",
      "source": [
        "greet(\"Alice\")  # \"Alice\" is the argument\n"
      ],
      "metadata": {
        "id": "ZeBp91ZKN_1F"
      },
      "execution_count": null,
      "outputs": []
    },
    {
      "cell_type": "markdown",
      "source": [
        "Key Types of Arguments in Python\n",
        "Positional Arguments\n",
        "Passed in the same order as the parameters are defined."
      ],
      "metadata": {
        "id": "iuy4I40tOHhY"
      }
    },
    {
      "cell_type": "code",
      "source": [
        "def add(a, b):\n",
        "    return a + b\n",
        "\n",
        "result = add(2, 3)  # Positional arguments: 2 and 3\n",
        "print(result)\n"
      ],
      "metadata": {
        "id": "iKLSALTPOJGV"
      },
      "execution_count": null,
      "outputs": []
    },
    {
      "cell_type": "markdown",
      "source": [
        "Keyword Arguments\n",
        "Explicitly specify which parameter an argument corresponds to by name."
      ],
      "metadata": {
        "id": "KPgXbbLIOkDR"
      }
    },
    {
      "cell_type": "code",
      "source": [
        "result = add(a=2, b=3)  # Keyword arguments\n"
      ],
      "metadata": {
        "id": "1MZdLTfAOn8e"
      },
      "execution_count": null,
      "outputs": []
    },
    {
      "cell_type": "markdown",
      "source": [
        "Default Arguments\n",
        "Parameters can have default values, which are used if no argument is provided."
      ],
      "metadata": {
        "id": "HKQk5KQdOrcu"
      }
    },
    {
      "cell_type": "code",
      "source": [
        "def greet(name=\"World\"):\n",
        "    print(f\"Hello, {name}!\")\n",
        "\n",
        "greet()           # Uses default value: \"Hello, World!\"\n",
        "greet(\"Alice\")    # Overrides default: \"Hello, Alice!\"\n"
      ],
      "metadata": {
        "id": "u65WihpmOxgj"
      },
      "execution_count": null,
      "outputs": []
    },
    {
      "cell_type": "markdown",
      "source": [
        "Arbitrary Arguments\n",
        "\n",
        "*args (Non-Keyword Arguments): Used to accept a variable number of positional arguments."
      ],
      "metadata": {
        "id": "3tn0HALJPBMD"
      }
    },
    {
      "cell_type": "code",
      "source": [
        "def sum_all(*numbers):\n",
        "    return sum(numbers)\n",
        "\n",
        "print(sum_all(1, 2, 3, 4))\n"
      ],
      "metadata": {
        "id": "4S_HHIiePGtl"
      },
      "execution_count": null,
      "outputs": []
    },
    {
      "cell_type": "markdown",
      "source": [
        "**kwargs (Keyword Arguments): Used to accept a variable number of keyword arguments"
      ],
      "metadata": {
        "id": "CCBBQmqjPTtM"
      }
    },
    {
      "cell_type": "code",
      "source": [
        "def print_info(**info):\n",
        "    for key, value in info.items():\n",
        "        print(f\"{key}: {value}\")\n",
        "\n",
        "print_info(name=\"Alice\", age=30)\n",
        "# Output:\n",
        "# name: Alice\n",
        "# age: 30\n"
      ],
      "metadata": {
        "id": "A-GTIMpqPVK4"
      },
      "execution_count": null,
      "outputs": []
    },
    {
      "cell_type": "markdown",
      "source": [
        " What are the different ways to define and call a function in Python"
      ],
      "metadata": {
        "id": "yGWhXu3hE5DK"
      }
    },
    {
      "cell_type": "markdown",
      "source": [
        "Standard Function Definition\n",
        "A function is defined using the def keyword, followed by its name and optional parameters."
      ],
      "metadata": {
        "id": "vbujgJIbHCre"
      }
    },
    {
      "cell_type": "code",
      "source": [
        "def greet(name):\n",
        "  return f\"hello, {name}!\"\n",
        "print(greet(\"Alice\"))"
      ],
      "metadata": {
        "id": "30m48fEzHD-5"
      },
      "execution_count": null,
      "outputs": []
    },
    {
      "cell_type": "markdown",
      "source": [
        "Function with Default Parameters\n",
        "You can provide default values for parameters, making them optional during the function call."
      ],
      "metadata": {
        "id": "AlkhKkWrHhJh"
      }
    },
    {
      "cell_type": "code",
      "source": [
        "def greet(name=\"World\"):\n",
        "    return f\"Hello, {name}!\"\n",
        "print(greet())\n",
        "print(greet(\"Alice\"))"
      ],
      "metadata": {
        "id": "BC4gs5lQH42p"
      },
      "execution_count": null,
      "outputs": []
    },
    {
      "cell_type": "markdown",
      "source": [
        "Lambda Functions (Anonymous Functions)\n",
        "These are single-expression functions created using the lambda keyword.\n",
        "Typically used for small, quick tasks."
      ],
      "metadata": {
        "id": "RWXOvTNhIKGy"
      }
    },
    {
      "cell_type": "code",
      "source": [
        "sqare = lambda x: x ** 2\n",
        "print(sqare(5))"
      ],
      "metadata": {
        "id": "C2v9FN5BILiB"
      },
      "execution_count": null,
      "outputs": []
    },
    {
      "cell_type": "markdown",
      "source": [
        "Nested Functions\n",
        "A function defined inside another function. Useful for encapsulating functionality."
      ],
      "metadata": {
        "id": "P8Zot7gQIv-M"
      }
    },
    {
      "cell_type": "code",
      "source": [
        "def outer_function(text):\n",
        "  def inner_function():\n",
        "    return f\"Inner says: {text}\"\n",
        "    return inner_function()\n",
        "print(outer_function(\"Hello\"))"
      ],
      "metadata": {
        "id": "wco2XHYqIxdc"
      },
      "execution_count": null,
      "outputs": []
    },
    {
      "cell_type": "markdown",
      "source": [
        "Function with Arbitrary Arguments\n",
        "Used when the number of arguments is not known beforehand."
      ],
      "metadata": {
        "id": "v0U3rovnJYDS"
      }
    },
    {
      "cell_type": "code",
      "source": [
        "def sum_all(*numbers):\n",
        "  return sum(numbers)\n",
        "print(sum_all(1, 2, 3, 4, 4))"
      ],
      "metadata": {
        "id": "jRvIhSiAJ1r5"
      },
      "execution_count": null,
      "outputs": []
    },
    {
      "cell_type": "markdown",
      "source": [
        "Keyword Arguments (**kwargs):"
      ],
      "metadata": {
        "id": "-TvR02rmMANv"
      }
    },
    {
      "cell_type": "code",
      "source": [
        "def describe_person(**details):\n",
        "    return details\n",
        "print(describe_person(name=\"Alice\", age=30))\n"
      ],
      "metadata": {
        "id": "N9naV3oMMBUB"
      },
      "execution_count": null,
      "outputs": []
    },
    {
      "cell_type": "markdown",
      "source": [
        "Class-based Functions\n",
        "Functions can be defined as methods inside classes."
      ],
      "metadata": {
        "id": "4MTH3KLVMMpO"
      }
    },
    {
      "cell_type": "code",
      "source": [
        "class Greeter:\n",
        "    def greet(self, name):\n",
        "        return f\"Hello, {name}!\"\n",
        "greeter = Greeter()\n",
        "print(greeter.greet(\"Sri\"))\n"
      ],
      "metadata": {
        "id": "qMi8tEs-MOPC"
      },
      "execution_count": null,
      "outputs": []
    },
    {
      "cell_type": "markdown",
      "source": [
        "Recursive Functions\n",
        "A function that calls itself."
      ],
      "metadata": {
        "id": "AF1VWa2BMaF1"
      }
    },
    {
      "cell_type": "code",
      "source": [
        "def factorial(n):\n",
        "    if n == 0:\n",
        "        return 1\n",
        "    return n * factorial(n - 1)\n",
        "print(factorial(534))\n"
      ],
      "metadata": {
        "id": "hXz197eXMbQ3"
      },
      "execution_count": null,
      "outputs": []
    },
    {
      "cell_type": "markdown",
      "source": [
        "Function Call with Unpacking Arguments\n",
        "You can unpack a list, tuple, or dictionary to pass as arguments to a function."
      ],
      "metadata": {
        "id": "AATLKP8XM1UV"
      }
    },
    {
      "cell_type": "code",
      "source": [
        "def greet(name, age):\n",
        "    return f\"Hello, {name}! You are {age} years old.\"\n",
        "args = (\"Alice\", 30)\n",
        "print(greet(*args))\n",
        "\n",
        "kwargs = {\"name\": \"Bob\", \"age\": 25}\n",
        "print(greet(**kwargs))\n"
      ],
      "metadata": {
        "id": "RF9A-gFXM2WR"
      },
      "execution_count": null,
      "outputs": []
    },
    {
      "cell_type": "markdown",
      "source": [
        "Higher-order Functions\n",
        "Functions that accept other functions as arguments or return functions."
      ],
      "metadata": {
        "id": "3KMQWHQzNDh8"
      }
    },
    {
      "cell_type": "code",
      "source": [
        "def add_one(x):\n",
        "    return x + 1\n",
        "\n",
        "def apply_function(func, value):\n",
        "    return func(value)\n",
        "print(apply_function(add_one, 10))\n"
      ],
      "metadata": {
        "id": "w-grBudBNEbN"
      },
      "execution_count": null,
      "outputs": []
    },
    {
      "cell_type": "markdown",
      "source": [
        "Callable Objects (Custom Callables)\n",
        "Objects can be made callable by defining the __call__ method in a class."
      ],
      "metadata": {
        "id": "PTcEHtcJNPrm"
      }
    },
    {
      "cell_type": "code",
      "source": [
        "class Greeter:\n",
        "    def __call__(self, name):\n",
        "        return f\"Hello, {name}!\"\n",
        "greeter = Greeter()\n",
        "print(greeter(\"Sri\"))\n"
      ],
      "metadata": {
        "id": "MY7Kmcy_NQ3C"
      },
      "execution_count": null,
      "outputs": []
    },
    {
      "cell_type": "markdown",
      "source": [
        "Direct Call: func(arg1, arg2)\n",
        "With Positional Arguments: func(1, 2)\n",
        "With Keyword Arguments: func(a=1, b=2)\n",
        "With Unpacking: func(*args, **kwargs)"
      ],
      "metadata": {
        "id": "xlmlXId1Nbna"
      }
    },
    {
      "cell_type": "markdown",
      "source": [
        "What is the purpose of the `return` statement in a Python function?"
      ],
      "metadata": {
        "id": "oxYPSublUHpl"
      }
    },
    {
      "cell_type": "markdown",
      "source": [
        "The return statement in a Python function is used to send a result or value back from the function to the caller. When the return statement is executed, it ends the function's execution and optionally returns a value to the place where the function was called. If no value is specified, None is returned by default.\n",
        "\n",
        "Key Points:\n",
        "Ends Function Execution: Once the return statement is executed, the function exits, and no further code in the function is executed.\n",
        "Returns a Value: The value specified after the return keyword is sent back to the caller. This can be any type of object: a number, string, list, dictionary, etc.\n",
        "Optional Return: A function can also end without returning a value, in which case Python implicitly returns None.\n",
        "Example:\n",
        "def add(a, b):\n",
        "    return a + b  # This will return the sum of a and b\n",
        "\n",
        "result = add(5, 3)  # The value returned is 8\n",
        "print(result)  # Output: 8\n",
        "Example without return:\n",
        "def greet(name):\n",
        "    print(f\"Hello, {name}!\")\n",
        "\n",
        "result = greet(\"Alice\")\n",
        "print(result)  # Output: None\n",
        "In the second example, the greet function doesn't have a return statement, so it prints the greeting but returns None by default.\n",
        "Summary:\n",
        "The return statement provides a way to send data back to the caller from within a function.\n",
        "If no return is specified, the function returns None."
      ],
      "metadata": {
        "id": "VkbY-SGqlPLI"
      }
    },
    {
      "cell_type": "code",
      "source": [
        "def add(a, b):\n",
        "    return a + b\n",
        "\n",
        "result = add(5, 3)\n",
        "print(result)\n"
      ],
      "metadata": {
        "id": "Si15DLa6lT6x"
      },
      "execution_count": null,
      "outputs": []
    },
    {
      "cell_type": "markdown",
      "source": [
        " What are iterators in Python and how do they differ from iterables"
      ],
      "metadata": {
        "id": "P6D2anSFloSD"
      }
    },
    {
      "cell_type": "markdown",
      "source": [
        "Iterators in Python:\n",
        "An iterator is an object in Python that represents a stream of data. It allows you to traverse through all the elements in a container (like a list, tuple, etc.) one at a time. Iterators implement two special methods:\n",
        "\n",
        "__iter__(): Returns the iterator object itself.\n",
        "__next__(): Returns the next element in the sequence. If no more elements are left, it raises a StopIteration exception.\n",
        "Iterables in Python:\n",
        "An iterable is any object that can be iterated over (e.g., lists, tuples, strings, sets, dictionaries). It must implement the special method __iter__(), which returns an iterator"
      ],
      "metadata": {
        "id": "J5XOPvhEmGiE"
      }
    },
    {
      "cell_type": "code",
      "source": [
        "# Example with an Iterable\n",
        "my_list = [1, 2, 3]  # A list is an iterable\n",
        "iterator = iter(my_list)  # Convert iterable to an iterator\n",
        "\n",
        "print(next(iterator))\n",
        "print(next(iterator))\n",
        "print(next(iterator))\n",
        "# print(next(iterator))  # Raises StopIteration\n"
      ],
      "metadata": {
        "id": "ZvBHo3mHmVQ0"
      },
      "execution_count": null,
      "outputs": []
    },
    {
      "cell_type": "markdown",
      "source": [
        " Explain the concept of generators in Python and how they are defined"
      ],
      "metadata": {
        "id": "a7WaUsOEmtT6"
      }
    },
    {
      "cell_type": "markdown",
      "source": [
        "Generators in Python are a special type of iterator that allows you to generate values lazily, meaning they produce items one at a time and only when requested. This makes them memory-efficient, especially when working with large datasets.\n",
        "\n",
        "Generators are defined using functions but use the yield statement instead of return. Each time the yield statement is called, the generator function pauses its execution and saves its state. When resumed, it continues from where it left off."
      ],
      "metadata": {
        "id": "h-XTQpRqm-gG"
      }
    },
    {
      "cell_type": "markdown",
      "source": [
        "Defining Generators\n",
        "Generators are defined using a generator function or a generator expression:\n",
        "\n",
        "1. Generator Function\n",
        "A generator function is defined like a normal function, but it contains one or more yield statement.\n",
        "\n"
      ],
      "metadata": {
        "id": "hHugsrasnKN9"
      }
    },
    {
      "cell_type": "code",
      "source": [
        "def generate_numbers(n):\n",
        "    for i in range(1, n + 1):\n",
        "        yield i  # Produces one number at a time\n",
        "\n",
        "# Using the generator\n",
        "gen = generate_numbers(5)\n",
        "print(next(gen))\n",
        "print(next(gen))\n",
        "print(list(gen))\n"
      ],
      "metadata": {
        "id": "rKCAJVHCnN66"
      },
      "execution_count": null,
      "outputs": []
    },
    {
      "cell_type": "markdown",
      "source": [
        " Generator Expression\n",
        "Generator expressions provide a compact way to create generators, similar to list comprehensions but using parentheses () instead of square brackets []."
      ],
      "metadata": {
        "id": "_idJpogYovaH"
      }
    },
    {
      "cell_type": "code",
      "source": [
        "gen_exp = (x ** 2 for x in range(1, 6))  # Squares of numbers 1 to 5\n",
        "print(next(gen_exp))\n",
        "print(next(gen_exp))\n",
        "print(list(gen_exp))\n"
      ],
      "metadata": {
        "id": "LjuP3zXJow8l"
      },
      "execution_count": null,
      "outputs": []
    },
    {
      "cell_type": "markdown",
      "source": [
        "Key Characteristics of Generators\n",
        "Lazy Evaluation:\n",
        "\n",
        "Generators compute values on the fly, rather than storing them in memory. This makes them ideal for working with large or infinite datasets.\n",
        "Statefulness:\n",
        "\n",
        "Generators maintain their state between calls, which allows them to resume execution from where they left off.\n",
        "One-Time Iteration:\n",
        "\n",
        "Generators can be iterated over only once. After they are exhausted, they cannot be reused.\n",
        "Efficiency:\n",
        "\n",
        "Since they do not store all elements in memory, they are more memory-efficient than lists"
      ],
      "metadata": {
        "id": "9TuAFfggpLkR"
      }
    },
    {
      "cell_type": "markdown",
      "source": [
        "What are the advantages of using generators over regular functions"
      ],
      "metadata": {
        "id": "mmXpWTWtpgqQ"
      }
    },
    {
      "cell_type": "markdown",
      "source": [
        "Generators in Python offer several advantages over regular functions, particularly when working with large data sets or when you need to produce values one at a time. Here are the key benefits:\n",
        "\n",
        "1. Memory Efficiency\n",
        "Regular Functions: Return complete data structures (e.g., lists or dictionaries) that are stored in memory, which can be costly for large data sets.\n",
        "Generators: Use lazy evaluation and produce one item at a time, only when requested. This means they don't store the entire dataset in memory, making them highly efficient for large or infinite data streams."
      ],
      "metadata": {
        "id": "tyFYi5xrp_l0"
      }
    },
    {
      "cell_type": "code",
      "source": [
        "# Regular function returning a list\n",
        "def generate_list(n):\n",
        "    return [i for i in range(n)]\n",
        "\n",
        "# Generator function producing one value at a time\n",
        "def generate_numbers(n):\n",
        "    for i in range(n):\n",
        "        yield i\n",
        "\n",
        "# Memory usage difference\n",
        "large_list = generate_list(10**6)  # Consumes significant memory\n",
        "large_gen = generate_numbers(10**6)  # Uses minimal memory\n",
        "print(large_list)\n",
        "print(large_gen)\n"
      ],
      "metadata": {
        "id": "BkVlR9tRqHWQ"
      },
      "execution_count": null,
      "outputs": []
    },
    {
      "cell_type": "markdown",
      "source": [
        "Lazy Evaluation\n",
        "Generators compute values on demand (lazily), so they avoid doing unnecessary computations.\n",
        "\n",
        "Regular Functions: Compute and return the entire result all at once, even if only part of it is needed.\n",
        "Generators: Pause execution after yielding a value and resume from where they left off, reducing overhead for unused items."
      ],
      "metadata": {
        "id": "qq3X8w1xqhtt"
      }
    },
    {
      "cell_type": "code",
      "source": [
        "def regular_function(n):\n",
        "    return [i**2 for i in range(n)]  # Precomputes all squares\n",
        "\n",
        "def generator_function(n):\n",
        "    for i in range(n):\n",
        "        yield i**2  # Computes squares only when needed\n",
        "\n",
        "# Only the first few values are computed\n",
        "gen = generator_function(5)\n",
        "print(next(gen))\n",
        "print(next(gen))\n"
      ],
      "metadata": {
        "id": "7fcAIvm4qj80"
      },
      "execution_count": null,
      "outputs": []
    },
    {
      "cell_type": "markdown",
      "source": [
        "Handling Infinite Sequences\n",
        "Regular Functions: Cannot handle infinite sequences because they would consume infinite memory.\n",
        "Generators: Can generate infinite sequences as they produce values on the fly."
      ],
      "metadata": {
        "id": "CFrhJN-LqqwP"
      }
    },
    {
      "cell_type": "code",
      "source": [
        "def infinite_generator():\n",
        "    i = 0\n",
        "    while True:\n",
        "        yield i\n",
        "        i += 1\n",
        "\n",
        "# Use the generator to produce values as needed\n",
        "for value in infinite_generator():\n",
        "    if value > 5000:  # Stop after 5 values\n",
        "        break\n",
        "    print(value, end=\" \")\n"
      ],
      "metadata": {
        "id": "vT42K9NRqrWa"
      },
      "execution_count": null,
      "outputs": []
    },
    {
      "cell_type": "markdown",
      "source": [
        "Simplified Iterator Creation\n",
        "Generators automatically implement the iterator protocol (__iter__() and __next__() methods), simplifying the process of creating iterators.\n",
        "With regular functions, you would need to explicitly define an iterator class."
      ],
      "metadata": {
        "id": "CWdCLAzFrLn8"
      }
    },
    {
      "cell_type": "code",
      "source": [
        "# Using a generator\n",
        "def my_generator():\n",
        "    for i in range(5):\n",
        "        yield i\n",
        "\n",
        "gen = my_generator()\n",
        "print(next(gen))\n"
      ],
      "metadata": {
        "id": "RiHv0hNUrRTN"
      },
      "execution_count": null,
      "outputs": []
    },
    {
      "cell_type": "markdown",
      "source": [
        "Improved Code Readability\n",
        "Generators are concise and expressive, especially when compared to manual iterator creation.\n",
        "They are easier to understand and maintain than equivalent implementations using classes or large data structures."
      ],
      "metadata": {
        "id": "8-NiKZporczz"
      }
    },
    {
      "cell_type": "code",
      "source": [
        "# Generator function (concise)\n",
        "def squares(n):\n",
        "    for i in range(n):\n",
        "        yield i**2\n",
        "print(list(squares(5)))"
      ],
      "metadata": {
        "id": "-WunIkl3rdjy"
      },
      "execution_count": null,
      "outputs": []
    },
    {
      "cell_type": "markdown",
      "source": [
        " What is a lambda function in Python and when is it typically used"
      ],
      "metadata": {
        "id": "4HOSSnEbryf-"
      }
    },
    {
      "cell_type": "markdown",
      "source": [
        "A lambda function in Python is a small, anonymous function that is defined using the lambda keyword. Unlike regular functions defined with def, lambda functions are written in a single line and can only contain one expression."
      ],
      "metadata": {
        "id": "lSQrqQWQr19n"
      }
    },
    {
      "cell_type": "code",
      "source": [
        "def add(x, y):\n",
        "    return x + y\n",
        "\n",
        "# Equivalent lambda function\n",
        "add = lambda x, y: x + y\n",
        "\n",
        "print(add(3, 5))\n"
      ],
      "metadata": {
        "id": "bGck_UjIr-97"
      },
      "execution_count": null,
      "outputs": []
    },
    {
      "cell_type": "markdown",
      "source": [
        "Key Characteristics of Lambda Functions\n",
        "Anonymous: Lambda functions do not have a name (unless assigned to a variable).\n",
        "Single Expression: They can only evaluate and return a single expression; multi-line operations are not allowed.\n",
        "Inline Use: They are often used inline within other functions or as arguments to higher-order functions.\n",
        "When to Use Lambda Functions\n",
        "Lambda functions are typically used in scenarios where a small, simple function is needed for a short period. They are especially useful in:\n",
        "\n",
        "1. Higher-Order Functions\n",
        "Lambda functions are often used as arguments to higher-order functions like map(), filter(), and reduce().\n",
        "\n"
      ],
      "metadata": {
        "id": "vUSdxjgfsQjH"
      }
    },
    {
      "cell_type": "code",
      "source": [
        "nums = [1, 2, 3, 4]\n",
        "squared = map(lambda x: x ** 2, nums)\n",
        "print(list(squared))\n",
        "\n",
        "\n",
        "nums = [1, 2, 3, 4, 5, 6]\n",
        "even_nums = filter(lambda x: x % 2 == 0, nums)\n",
        "print(list(even_nums))\n"
      ],
      "metadata": {
        "id": "NHZR6bYIsT4_"
      },
      "execution_count": null,
      "outputs": []
    },
    {
      "cell_type": "markdown",
      "source": [
        "Sorting with Custom Keys\n",
        "Lambda functions can be used to specify custom sorting logic with functions like sorted()."
      ],
      "metadata": {
        "id": "cHwURhkLsj4n"
      }
    },
    {
      "cell_type": "code",
      "source": [
        "pairs = [(1, 2), (3, 1), (5, 0)]\n",
        "sorted_pairs = sorted(pairs, key=lambda x: x[1])\n",
        "print(sorted_pairs)\n"
      ],
      "metadata": {
        "id": "OCwg2J9bsoJb"
      },
      "execution_count": null,
      "outputs": []
    },
    {
      "cell_type": "markdown",
      "source": [
        "Quick, One-Off Functions\n",
        "When you need a function for a short duration (e.g., inside a loop or another function) and don't want to define a full def function."
      ],
      "metadata": {
        "id": "L7i5xkhAswUS"
      }
    },
    {
      "cell_type": "code",
      "source": [
        "# Compute the cube of a number\n",
        "cube = lambda x: x ** 3\n",
        "print(cube(3))\n"
      ],
      "metadata": {
        "id": "eAJkleBYsxfC"
      },
      "execution_count": null,
      "outputs": []
    },
    {
      "cell_type": "markdown",
      "source": [
        "Reducing Boilerplate Code\n",
        "Lambda functions help make the code more concise and readable when the function logic is simple."
      ],
      "metadata": {
        "id": "Do7SOstgs5d-"
      }
    },
    {
      "cell_type": "code",
      "source": [
        "# Regular function\n",
        "def add_ten(x):\n",
        "    return x + 10\n",
        "\n",
        "# Lambda equivalent\n",
        "add_ten = lambda x: x + 10\n",
        "\n",
        "print(add_ten(5))\n"
      ],
      "metadata": {
        "id": "xw_1ZDdjs6Jo"
      },
      "execution_count": null,
      "outputs": []
    },
    {
      "cell_type": "markdown",
      "source": [
        "Explain the purpose and usage of the `map()` function in Python"
      ],
      "metadata": {
        "id": "TAXHGRoDtKeq"
      }
    },
    {
      "cell_type": "markdown",
      "source": [
        "The map() function in Python is used to apply a given function to each item of an iterable (like a list, tuple, or string) and return a new iterable (a map object) containing the results. It simplifies operations that need to be applied to every element in an iterable, avoiding the need for explicit loops."
      ],
      "metadata": {
        "id": "37qEJKLPudhN"
      }
    },
    {
      "cell_type": "markdown",
      "source": [
        "The map() function returns a map object, which is an iterator. You can convert it to other data structures, such as a list, tuple, or set, using their respective constructors."
      ],
      "metadata": {
        "id": "JGK_2iT_ulKt"
      }
    },
    {
      "cell_type": "markdown",
      "source": [
        "The map() function applies the function to each element in the iterable and stores the resulting values in a new iterator."
      ],
      "metadata": {
        "id": "wPpctqvAuqxX"
      }
    },
    {
      "cell_type": "code",
      "source": [
        "def double(x):\n",
        "    return x * 2\n",
        "\n",
        "# List of numbers\n",
        "numbers = [1, 2, 3, 4]\n",
        "\n",
        "# Applying map\n",
        "result = map(double, numbers)\n",
        "print(list(result))\n"
      ],
      "metadata": {
        "id": "bvggeGsEusCp"
      },
      "execution_count": null,
      "outputs": []
    },
    {
      "cell_type": "markdown",
      "source": [
        "Transforming Elements\n",
        "You can use map() to apply transformations to each element of an iterable."
      ],
      "metadata": {
        "id": "wynWPwSfvCtC"
      }
    },
    {
      "cell_type": "code",
      "source": [
        "# Lambda function for conversion\n",
        "celsius = [0, 10, 20, 30]\n",
        "fahrenheit = map(lambda c: c * 9/5 + 32, celsius)\n",
        "print(list(fahrenheit))\n"
      ],
      "metadata": {
        "id": "q8Pvuzd8vFKM"
      },
      "execution_count": null,
      "outputs": []
    },
    {
      "cell_type": "markdown",
      "source": [
        "Working with Multiple Iterables\n",
        "map() can take multiple iterables as arguments, and the function must accept that many arguments."
      ],
      "metadata": {
        "id": "ZPPOenD1vCYH"
      }
    },
    {
      "cell_type": "code",
      "source": [
        "nums1 = [1, 2, 3]\n",
        "nums2 = [4, 5, 6]\n",
        "result = map(lambda x, y: x + y, nums1, nums2)\n",
        "print(list(result))\n"
      ],
      "metadata": {
        "id": "sLlSj_JjwdgN"
      },
      "execution_count": null,
      "outputs": []
    },
    {
      "cell_type": "markdown",
      "source": [
        "String Operations\n",
        "You can use map() for string manipulations."
      ],
      "metadata": {
        "id": "JSlsK0drwlzM"
      }
    },
    {
      "cell_type": "code",
      "source": [
        "words = ['hello', 'world', 'python']\n",
        "capitalized = map(str.capitalize, words)\n",
        "print(list(capitalized))\n"
      ],
      "metadata": {
        "id": "C-QMXXj8wnPT"
      },
      "execution_count": null,
      "outputs": []
    },
    {
      "cell_type": "markdown",
      "source": [
        "Applying Built-in Functions\n",
        "map() is commonly used with built-in functions like str(), int(), or float() for type conversion."
      ],
      "metadata": {
        "id": "IV0sDaZ8wtpk"
      }
    },
    {
      "cell_type": "code",
      "source": [
        "strings = ['1', '2', '3']\n",
        "numbers = map(int, strings)\n",
        "print(list(numbers))\n",
        "\n",
        "\n"
      ],
      "metadata": {
        "id": "JhY2OA03wuy2"
      },
      "execution_count": null,
      "outputs": []
    },
    {
      "cell_type": "markdown",
      "source": [
        " What is the difference between `map()`, `reduce()`, and `filter()` functions in Python"
      ],
      "metadata": {
        "id": "hP-W6zapw8CX"
      }
    },
    {
      "cell_type": "markdown",
      "source": [
        "In Python, map(), reduce(), and filter() are higher-order functions that are commonly used in functional programming. They allow you to operate on iterables in an efficient and concise way. While they share some similarities, their purposes and functionality are distinct.\n",
        "\n",
        "The map() function applies a given function to each item in an iterable (or multiple iterables) and returns a new iterable (a map object) containing the results.\n",
        "\n",
        "Purpose: Transform each element of an iterable based on a function.\n",
        "Input: A function and one or more iterables.\n",
        "Output: An iterable containing transformed elements."
      ],
      "metadata": {
        "id": "C8piWlXoxKC5"
      }
    },
    {
      "cell_type": "code",
      "source": [
        "nums = [1, 2, 3, 4]\n",
        "squared = map(lambda x: x**2, nums)\n",
        "print(list(squared))\n"
      ],
      "metadata": {
        "id": "HQ0NAjXwziMx"
      },
      "execution_count": null,
      "outputs": []
    },
    {
      "cell_type": "markdown",
      "source": [
        "The filter() function applies a given function (a predicate) to each item in an iterable and includes only the items for which the function returns True.\n",
        "\n",
        "Purpose: Filter elements of an iterable based on a condition.\n",
        "Input: A function (that returns True or False) and an iterable.\n",
        "Output: An iterable containing elements that meet the condition."
      ],
      "metadata": {
        "id": "tMs5GYQz0FOo"
      }
    },
    {
      "cell_type": "code",
      "source": [
        "nums = [1, 2, 3, 4, 5]\n",
        "even_nums = filter(lambda x: x % 2 == 0, nums)\n",
        "print(list(even_nums))\n"
      ],
      "metadata": {
        "id": "cJIYDTSE0HuH"
      },
      "execution_count": null,
      "outputs": []
    },
    {
      "cell_type": "markdown",
      "source": [
        "The reduce() function applies a binary function (a function with two arguments) cumulatively to the elements of an iterable, reducing it to a single value. It is part of the functools module, so it must be imported before use.\n",
        "\n",
        "Purpose: Aggregate or reduce an iterable to a single result.\n",
        "Input: A function (with two arguments) and an iterable.\n",
        "Output: A single value obtained by cumulatively applying the function."
      ],
      "metadata": {
        "id": "PvXXjy0I0bM1"
      }
    },
    {
      "cell_type": "code",
      "source": [
        "from functools import reduce\n",
        "\n",
        "nums = [1, 2, 3, 4]\n",
        "sum_of_nums = reduce(lambda x, y: x + y, nums)\n",
        "print(sum_of_nums)\n"
      ],
      "metadata": {
        "id": "oaho1y_h0cmt"
      },
      "execution_count": null,
      "outputs": []
    },
    {
      "cell_type": "markdown",
      "source": [
        "write the internal mechanism for sum operation using  reduce function on this given\n",
        "list:[47,11,42,13];\n",
        "\n",
        "Check the Google Doc file please"
      ],
      "metadata": {
        "id": "uWN9YMQtz9Zs"
      }
    },
    {
      "cell_type": "markdown",
      "source": [
        "Write a Python function that checks if a given number is prime or not from 1 to 200"
      ],
      "metadata": {
        "id": "3lyP8tGoNdBg"
      }
    },
    {
      "cell_type": "code",
      "source": [
        "def is_prime(number):\n",
        "\n",
        "    if number < 1 or number > 200:\n",
        "        return \"Number is out of range. Please provide a number between 1 and 200.\"\n",
        "\n",
        "    if number < 2:  # 1 and numbers below are not prime\n",
        "        return f\"{number} is not a prime number.\"\n",
        "\n",
        "    for i in range(2, int(number ** 0.5) + 1):  # Check divisors up to the square root of the number\n",
        "        if number % i == 0:\n",
        "            return f\"{number} is not a prime number.\"\n",
        "\n",
        "    return f\"{number} is a prime number.\"\n",
        "\n",
        "\n",
        "\n",
        "print(is_prime(7))\n",
        "print(is_prime(10))\n",
        "print(is_prime(201))\n"
      ],
      "metadata": {
        "id": "E1joT_T4NmcU"
      },
      "execution_count": null,
      "outputs": []
    },
    {
      "cell_type": "markdown",
      "source": [
        "Create an iterator class in Python that generates the Fibonacci sequence up to a specified number of\n",
        "terms"
      ],
      "metadata": {
        "id": "UMQ9sUykO4nr"
      }
    },
    {
      "cell_type": "code",
      "source": [
        "class FibonacciIterator:\n",
        "    def __init__(self, n_terms):\n",
        "        self.n_terms = n_terms\n",
        "        self.current, self.next, self.index = 0, 1, 0\n",
        "\n",
        "    def __iter__(self):\n",
        "        return self\n",
        "\n",
        "    def __next__(self):\n",
        "        if self.index >= self.n_terms:\n",
        "            raise StopIteration\n",
        "        fib = self.current\n",
        "        self.current, self.next = self.next, self.current + self.next\n",
        "        self.index += 1\n",
        "        return fib\n",
        "\n",
        "# Example Usage\n",
        "for num in FibonacciIterator(10):\n",
        "    print(num, end=\" \")\n"
      ],
      "metadata": {
        "id": "s31uPN6MPVtw"
      },
      "execution_count": null,
      "outputs": []
    },
    {
      "cell_type": "markdown",
      "source": [
        "Write a generator function in Python that yields the powers of 2 up to a given exponent"
      ],
      "metadata": {
        "id": "RNjXzlH-PioB"
      }
    },
    {
      "cell_type": "code",
      "source": [
        "def powers_of_two(max_exponent):\n",
        "\n",
        "    for exponent in range(max_exponent + 1):\n",
        "        yield 2 ** exponent\n",
        "\n",
        "\n",
        "for value in powers_of_two(5):\n",
        "    print(value, end=\" \")\n"
      ],
      "metadata": {
        "id": "azQm7fT4Pm8n"
      },
      "execution_count": null,
      "outputs": []
    },
    {
      "cell_type": "markdown",
      "source": [
        " Implement a generator function that reads a file line by line and yields each line as a string"
      ],
      "metadata": {
        "id": "BHqSCKMdP781"
      }
    },
    {
      "cell_type": "code",
      "source": [
        "def read_file_line_by_line(file_path):\n",
        "\n",
        "    with open(file_path, 'r') as file:\n",
        "        for line in file:\n",
        "            yield line.rstrip()  # Strip trailing newline or whitespace\n",
        "\n",
        "# Example Usage\n",
        "file_path = 'example.txt'  # Replace with the path to your file\n",
        "for line in read_file_line_by_line(file_path):\n",
        "    print(line)\n"
      ],
      "metadata": {
        "id": "hhURDr5pRYxv"
      },
      "execution_count": null,
      "outputs": []
    },
    {
      "cell_type": "markdown",
      "source": [
        "Use a lambda function in Python to sort a list of tuples based on the second element of each tuple."
      ],
      "metadata": {
        "id": "qYZxP131RcEl"
      }
    },
    {
      "cell_type": "code",
      "source": [
        "# List of tuples\n",
        "tuples_list = [(1, 3), (4, 1), (2, 5), (3, 2)]\n",
        "\n",
        "# Sorting based on the second element\n",
        "sorted_list = sorted(tuples_list, key=lambda x: x[1])\n",
        "\n",
        "# Output the sorted list\n",
        "print(sorted_list)\n"
      ],
      "metadata": {
        "id": "yMmngJMERkOZ"
      },
      "execution_count": null,
      "outputs": []
    },
    {
      "cell_type": "markdown",
      "source": [
        " Write a Python program that uses `map()` to convert a list of temperatures from Celsius to Fahrenheit"
      ],
      "metadata": {
        "id": "grcbyS9fR1bX"
      }
    },
    {
      "cell_type": "code",
      "source": [
        "# Function to convert Celsius to Fahrenheit\n",
        "def celsius_to_fahrenheit(celsius):\n",
        "    return (celsius * 9/5) + 32\n",
        "\n",
        "# List of temperatures in Celsius\n",
        "celsius_temperatures = [0, 20, 37, 100]\n",
        "\n",
        "# Use map() to apply the conversion\n",
        "fahrenheit_temperatures = list(map(celsius_to_fahrenheit, celsius_temperatures))\n",
        "\n",
        "# Output the converted temperatures\n",
        "print(f\"Temperatures in Fahrenheit: {fahrenheit_temperatures}\")\n"
      ],
      "metadata": {
        "id": "iPwubMQZR2UA"
      },
      "execution_count": null,
      "outputs": []
    },
    {
      "cell_type": "markdown",
      "source": [
        " Create a Python program that uses `filter()` to remove all the vowels from a given string."
      ],
      "metadata": {
        "id": "eun1LX5fScDb"
      }
    },
    {
      "cell_type": "code",
      "source": [
        "# Function to check if a character is not a vowel\n",
        "def is_not_vowel(char):\n",
        "    return char.lower() not in 'aeiou'\n",
        "\n",
        "# Input string\n",
        "input_string = \"Hello, World!\"\n",
        "\n",
        "# Use filter() to remove vowels\n",
        "result = ''.join(filter(is_not_vowel, input_string))\n",
        "\n",
        "# Output the result\n",
        "print(f\"String without vowels: {result}\")\n"
      ],
      "metadata": {
        "id": "5MrxXEmLSjo7"
      },
      "execution_count": null,
      "outputs": []
    },
    {
      "cell_type": "code",
      "source": [
        "result = ''.join(filter(lambda char: char.lower() not in 'aeiou', input_string))\n",
        "print(f\"String without vowels: {result}\")\n"
      ],
      "metadata": {
        "id": "iK_7br6BS1Cr"
      },
      "execution_count": null,
      "outputs": []
    },
    {
      "cell_type": "markdown",
      "source": [
        " Imagine an accounting routine used in a book shop. It works on a list with sublists, which look like this:\n",
        "\n",
        "\n",
        "\n",
        "\n",
        "\n",
        "\n",
        "\n",
        "Write a Python program, which returns a list with 2-tuples. Each tuple consists of the order number and the\n",
        "product of the price per item and the quantity. The product should be increased by 10,- € if the value of the\n",
        "order is smaller than 100,00 €.\n",
        "\n",
        "Write a Python program using lambda and map."
      ],
      "metadata": {
        "id": "_9U6QXmXTipL"
      }
    },
    {
      "cell_type": "code",
      "source": [
        "# Sample data: Each sublist contains [Order Number, Book Title and Author, Quantity, Price per Item]\n",
        "orders = [\n",
        "    [34587, \"Learning Python, Mark Lutz\", 4, 40.95],\n",
        "    [98762, \"Programming Python, Mark Lutz\", 5, 56.80],\n",
        "    [77226, \"Head First Python, Paul Barry\", 3, 32.95],\n",
        "    [88112, \"Einführung in Python3, Bernd Klein\", 3, 24.99]\n",
        "]\n",
        "\n",
        "# Function to calculate total price per order and apply 10€ increase if needed\n",
        "def calculate_total(order):\n",
        "    order_number, book, quantity, price_per_item = order\n",
        "    total = quantity * price_per_item\n",
        "    if total < 100:\n",
        "        total += 10  # Increase by 10 if the total is less than 100€\n",
        "    return (order_number, total)\n",
        "\n",
        "# Using map() with lambda to apply the function to each order\n",
        "result = list(map(lambda order: calculate_total(order), orders))\n",
        "\n",
        "# Output the result\n",
        "print(result)\n"
      ],
      "metadata": {
        "id": "dqMcb5KGTjmH"
      },
      "execution_count": null,
      "outputs": []
    }
  ]
}